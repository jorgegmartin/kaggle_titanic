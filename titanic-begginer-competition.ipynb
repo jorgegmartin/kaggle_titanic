{
 "cells": [
  {
   "cell_type": "code",
   "execution_count": 1,
   "id": "baf8d2ee",
   "metadata": {
    "_cell_guid": "b1076dfc-b9ad-4769-8c92-a6c4dae69d19",
    "_uuid": "8f2839f25d086af736a60e9eeb907d3b93b6e0e5",
    "execution": {
     "iopub.execute_input": "2022-05-13T15:54:04.424692Z",
     "iopub.status.busy": "2022-05-13T15:54:04.424126Z",
     "iopub.status.idle": "2022-05-13T15:54:04.436723Z",
     "shell.execute_reply": "2022-05-13T15:54:04.436073Z"
    },
    "papermill": {
     "duration": 0.041304,
     "end_time": "2022-05-13T15:54:04.438732",
     "exception": false,
     "start_time": "2022-05-13T15:54:04.397428",
     "status": "completed"
    },
    "tags": []
   },
   "outputs": [],
   "source": [
    "# Input data files are available in the read-only \"../input/\" directory\n",
    "# For example, running this (by clicking run or pressing Shift+Enter) will list all files under the input directory\n",
    "\n",
    "import os\n",
    "for dirname, _, filenames in os.walk('/kaggle/input'):\n",
    "    for filename in filenames:\n",
    "        print(os.path.join(dirname, filename))\n",
    "\n",
    "# You can write up to 20GB to the current directory (/kaggle/working/) that gets preserved as output when you create a version using \"Save & Run All\" \n",
    "# You can also write temporary files to /kaggle/temp/, but they won't be saved outside of the current session"
   ]
  },
  {
   "cell_type": "markdown",
   "id": "b29c84ef",
   "metadata": {
    "papermill": {
     "duration": 0.023712,
     "end_time": "2022-05-13T15:54:04.487412",
     "exception": false,
     "start_time": "2022-05-13T15:54:04.463700",
     "status": "completed"
    },
    "tags": []
   },
   "source": [
    "# Import dependencies and data"
   ]
  },
  {
   "cell_type": "code",
   "execution_count": 2,
   "id": "6f312f4a",
   "metadata": {
    "execution": {
     "iopub.execute_input": "2022-05-13T15:54:04.537043Z",
     "iopub.status.busy": "2022-05-13T15:54:04.536705Z",
     "iopub.status.idle": "2022-05-13T15:54:06.112374Z",
     "shell.execute_reply": "2022-05-13T15:54:06.111355Z"
    },
    "papermill": {
     "duration": 1.603577,
     "end_time": "2022-05-13T15:54:06.114987",
     "exception": false,
     "start_time": "2022-05-13T15:54:04.511410",
     "status": "completed"
    },
    "tags": []
   },
   "outputs": [],
   "source": [
    "# data analysis and wrangling\n",
    "import pandas as pd\n",
    "import numpy as np\n",
    "import random as rnd\n",
    "\n",
    "# visualization\n",
    "import seaborn as sns\n",
    "import matplotlib.pyplot as plt\n",
    "%matplotlib inline\n",
    "\n",
    "# machine learning\n",
    "from sklearn.preprocessing import LabelEncoder\n",
    "from sklearn.preprocessing import OneHotEncoder\n",
    "from sklearn.linear_model import HuberRegressor, LinearRegression, ElasticNet\n",
    "from sklearn.svm import LinearSVR\n",
    "from sklearn.ensemble import RandomForestClassifier\n",
    "from sklearn.neighbors import KNeighborsRegressor\n",
    "from sklearn.linear_model import LinearRegression\n",
    "from sklearn.linear_model import LogisticRegression\n",
    "from sklearn.linear_model import Lasso\n",
    "from sklearn.linear_model import ElasticNet\n",
    "from sklearn.tree import DecisionTreeRegressor\n",
    "from sklearn.neighbors import KNeighborsRegressor\n",
    "from sklearn.ensemble import GradientBoostingRegressor\n",
    "\n",
    "from sklearn import datasets\n",
    "from sklearn.feature_selection import RFE\n",
    "from sklearn.model_selection import train_test_split\n",
    "from sklearn.model_selection import cross_val_score\n",
    "from sklearn.model_selection import KFold\n",
    "from sklearn.pipeline import Pipeline\n",
    "from sklearn.preprocessing import StandardScaler"
   ]
  },
  {
   "cell_type": "markdown",
   "metadata": {},
   "source": [
    "Acquiring the data"
   ]
  },
  {
   "cell_type": "code",
   "execution_count": 3,
   "id": "57854761",
   "metadata": {},
   "outputs": [],
   "source": [
    "'''\n",
    "Data paths for kaggle online working\n",
    "\n",
    "df = pd.read_csv(r'/kaggle/input/titanic/train.csv')\n",
    "df_test = pd.read_csv(r'/kaggle/input/titanic/test.csv')\n",
    "df_gender = pd.read_csv(r'/kaggle/input/titanic/gender_submission.csv')\n",
    "'''\n",
    "# Data paths for desktop offline working\n",
    "\n",
    "df = pd.read_csv(r'./input/train.csv')\n",
    "df_test = pd.read_csv(r'./input/test.csv')\n",
    "df_gender = pd.read_csv(r'./input/gender_submission.csv')"
   ]
  },
  {
   "cell_type": "markdown",
   "id": "8b53f5e9",
   "metadata": {
    "papermill": {
     "duration": 0.024994,
     "end_time": "2022-05-13T15:54:06.255452",
     "exception": false,
     "start_time": "2022-05-13T15:54:06.230458",
     "status": "completed"
    },
    "tags": []
   },
   "source": [
    "# Exploring the data"
   ]
  },
  {
   "cell_type": "markdown",
   "id": "ce205f60",
   "metadata": {},
   "source": [
    "First we explore the features available in the data."
   ]
  },
  {
   "cell_type": "code",
   "execution_count": 4,
   "id": "99985504",
   "metadata": {
    "execution": {
     "iopub.execute_input": "2022-05-13T15:54:06.307492Z",
     "iopub.status.busy": "2022-05-13T15:54:06.306916Z",
     "iopub.status.idle": "2022-05-13T15:54:06.346324Z",
     "shell.execute_reply": "2022-05-13T15:54:06.345462Z"
    },
    "papermill": {
     "duration": 0.067964,
     "end_time": "2022-05-13T15:54:06.348455",
     "exception": false,
     "start_time": "2022-05-13T15:54:06.280491",
     "status": "completed"
    },
    "tags": []
   },
   "outputs": [
    {
     "data": {
      "text/plain": [
       "array(['PassengerId', 'Survived', 'Pclass', 'Name', 'Sex', 'Age', 'SibSp',\n",
       "       'Parch', 'Ticket', 'Fare', 'Cabin', 'Embarked'], dtype=object)"
      ]
     },
     "execution_count": 4,
     "metadata": {},
     "output_type": "execute_result"
    }
   ],
   "source": [
    "df.columns.values"
   ]
  },
  {
   "cell_type": "markdown",
   "id": "2465867f",
   "metadata": {},
   "source": [
    "Second, we preview the data in order to identify further information regarding the features."
   ]
  },
  {
   "cell_type": "code",
   "execution_count": 5,
   "id": "bad48813",
   "metadata": {
    "execution": {
     "iopub.execute_input": "2022-05-13T15:54:06.403104Z",
     "iopub.status.busy": "2022-05-13T15:54:06.402799Z",
     "iopub.status.idle": "2022-05-13T15:54:06.421859Z",
     "shell.execute_reply": "2022-05-13T15:54:06.421116Z"
    },
    "papermill": {
     "duration": 0.048765,
     "end_time": "2022-05-13T15:54:06.423688",
     "exception": false,
     "start_time": "2022-05-13T15:54:06.374923",
     "status": "completed"
    },
    "tags": []
   },
   "outputs": [
    {
     "data": {
      "text/html": [
       "<div>\n",
       "<style scoped>\n",
       "    .dataframe tbody tr th:only-of-type {\n",
       "        vertical-align: middle;\n",
       "    }\n",
       "\n",
       "    .dataframe tbody tr th {\n",
       "        vertical-align: top;\n",
       "    }\n",
       "\n",
       "    .dataframe thead th {\n",
       "        text-align: right;\n",
       "    }\n",
       "</style>\n",
       "<table border=\"1\" class=\"dataframe\">\n",
       "  <thead>\n",
       "    <tr style=\"text-align: right;\">\n",
       "      <th></th>\n",
       "      <th>PassengerId</th>\n",
       "      <th>Survived</th>\n",
       "      <th>Pclass</th>\n",
       "      <th>Name</th>\n",
       "      <th>Sex</th>\n",
       "      <th>Age</th>\n",
       "      <th>SibSp</th>\n",
       "      <th>Parch</th>\n",
       "      <th>Ticket</th>\n",
       "      <th>Fare</th>\n",
       "      <th>Cabin</th>\n",
       "      <th>Embarked</th>\n",
       "    </tr>\n",
       "  </thead>\n",
       "  <tbody>\n",
       "    <tr>\n",
       "      <th>0</th>\n",
       "      <td>1</td>\n",
       "      <td>0</td>\n",
       "      <td>3</td>\n",
       "      <td>Braund, Mr. Owen Harris</td>\n",
       "      <td>male</td>\n",
       "      <td>22.0</td>\n",
       "      <td>1</td>\n",
       "      <td>0</td>\n",
       "      <td>A/5 21171</td>\n",
       "      <td>7.2500</td>\n",
       "      <td>NaN</td>\n",
       "      <td>S</td>\n",
       "    </tr>\n",
       "    <tr>\n",
       "      <th>1</th>\n",
       "      <td>2</td>\n",
       "      <td>1</td>\n",
       "      <td>1</td>\n",
       "      <td>Cumings, Mrs. John Bradley (Florence Briggs Th...</td>\n",
       "      <td>female</td>\n",
       "      <td>38.0</td>\n",
       "      <td>1</td>\n",
       "      <td>0</td>\n",
       "      <td>PC 17599</td>\n",
       "      <td>71.2833</td>\n",
       "      <td>C85</td>\n",
       "      <td>C</td>\n",
       "    </tr>\n",
       "    <tr>\n",
       "      <th>2</th>\n",
       "      <td>3</td>\n",
       "      <td>1</td>\n",
       "      <td>3</td>\n",
       "      <td>Heikkinen, Miss. Laina</td>\n",
       "      <td>female</td>\n",
       "      <td>26.0</td>\n",
       "      <td>0</td>\n",
       "      <td>0</td>\n",
       "      <td>STON/O2. 3101282</td>\n",
       "      <td>7.9250</td>\n",
       "      <td>NaN</td>\n",
       "      <td>S</td>\n",
       "    </tr>\n",
       "    <tr>\n",
       "      <th>3</th>\n",
       "      <td>4</td>\n",
       "      <td>1</td>\n",
       "      <td>1</td>\n",
       "      <td>Futrelle, Mrs. Jacques Heath (Lily May Peel)</td>\n",
       "      <td>female</td>\n",
       "      <td>35.0</td>\n",
       "      <td>1</td>\n",
       "      <td>0</td>\n",
       "      <td>113803</td>\n",
       "      <td>53.1000</td>\n",
       "      <td>C123</td>\n",
       "      <td>S</td>\n",
       "    </tr>\n",
       "    <tr>\n",
       "      <th>4</th>\n",
       "      <td>5</td>\n",
       "      <td>0</td>\n",
       "      <td>3</td>\n",
       "      <td>Allen, Mr. William Henry</td>\n",
       "      <td>male</td>\n",
       "      <td>35.0</td>\n",
       "      <td>0</td>\n",
       "      <td>0</td>\n",
       "      <td>373450</td>\n",
       "      <td>8.0500</td>\n",
       "      <td>NaN</td>\n",
       "      <td>S</td>\n",
       "    </tr>\n",
       "  </tbody>\n",
       "</table>\n",
       "</div>"
      ],
      "text/plain": [
       "   PassengerId  Survived  Pclass  \\\n",
       "0            1         0       3   \n",
       "1            2         1       1   \n",
       "2            3         1       3   \n",
       "3            4         1       1   \n",
       "4            5         0       3   \n",
       "\n",
       "                                                Name     Sex   Age  SibSp  \\\n",
       "0                            Braund, Mr. Owen Harris    male  22.0      1   \n",
       "1  Cumings, Mrs. John Bradley (Florence Briggs Th...  female  38.0      1   \n",
       "2                             Heikkinen, Miss. Laina  female  26.0      0   \n",
       "3       Futrelle, Mrs. Jacques Heath (Lily May Peel)  female  35.0      1   \n",
       "4                           Allen, Mr. William Henry    male  35.0      0   \n",
       "\n",
       "   Parch            Ticket     Fare Cabin Embarked  \n",
       "0      0         A/5 21171   7.2500   NaN        S  \n",
       "1      0          PC 17599  71.2833   C85        C  \n",
       "2      0  STON/O2. 3101282   7.9250   NaN        S  \n",
       "3      0            113803  53.1000  C123        S  \n",
       "4      0            373450   8.0500   NaN        S  "
      ]
     },
     "execution_count": 5,
     "metadata": {},
     "output_type": "execute_result"
    }
   ],
   "source": [
    "df.head()"
   ]
  },
  {
   "cell_type": "markdown",
   "id": "b0239880",
   "metadata": {},
   "source": [
    "We can find 5 categorical features (Survived, Pclass, Sex, Cabin and Embarked) and 4 continuous fetures (Age, SibSp, Parch and Fare).\n",
    "\n",
    "Ticket and Cabin are mixed features, harder to deal with. \n",
    "\n",
    "Name feature won't be taken into account as is a proxy for PassengerId.\n",
    "\n",
    "We can find the description for the variables here: https://www.kaggle.com/c/titanic/data"
   ]
  },
  {
   "cell_type": "markdown",
   "id": "141e3f43",
   "metadata": {},
   "source": [
    "### Distribution os feature values "
   ]
  },
  {
   "cell_type": "code",
   "execution_count": 6,
   "id": "48a0815f",
   "metadata": {},
   "outputs": [
    {
     "data": {
      "text/html": [
       "<div>\n",
       "<style scoped>\n",
       "    .dataframe tbody tr th:only-of-type {\n",
       "        vertical-align: middle;\n",
       "    }\n",
       "\n",
       "    .dataframe tbody tr th {\n",
       "        vertical-align: top;\n",
       "    }\n",
       "\n",
       "    .dataframe thead th {\n",
       "        text-align: right;\n",
       "    }\n",
       "</style>\n",
       "<table border=\"1\" class=\"dataframe\">\n",
       "  <thead>\n",
       "    <tr style=\"text-align: right;\">\n",
       "      <th></th>\n",
       "      <th>PassengerId</th>\n",
       "      <th>Survived</th>\n",
       "      <th>Pclass</th>\n",
       "      <th>Age</th>\n",
       "      <th>SibSp</th>\n",
       "      <th>Parch</th>\n",
       "      <th>Fare</th>\n",
       "    </tr>\n",
       "  </thead>\n",
       "  <tbody>\n",
       "    <tr>\n",
       "      <th>count</th>\n",
       "      <td>891.000000</td>\n",
       "      <td>891.000000</td>\n",
       "      <td>891.000000</td>\n",
       "      <td>714.000000</td>\n",
       "      <td>891.000000</td>\n",
       "      <td>891.000000</td>\n",
       "      <td>891.000000</td>\n",
       "    </tr>\n",
       "    <tr>\n",
       "      <th>mean</th>\n",
       "      <td>446.000000</td>\n",
       "      <td>0.383838</td>\n",
       "      <td>2.308642</td>\n",
       "      <td>29.699118</td>\n",
       "      <td>0.523008</td>\n",
       "      <td>0.381594</td>\n",
       "      <td>32.204208</td>\n",
       "    </tr>\n",
       "    <tr>\n",
       "      <th>std</th>\n",
       "      <td>257.353842</td>\n",
       "      <td>0.486592</td>\n",
       "      <td>0.836071</td>\n",
       "      <td>14.526497</td>\n",
       "      <td>1.102743</td>\n",
       "      <td>0.806057</td>\n",
       "      <td>49.693429</td>\n",
       "    </tr>\n",
       "    <tr>\n",
       "      <th>min</th>\n",
       "      <td>1.000000</td>\n",
       "      <td>0.000000</td>\n",
       "      <td>1.000000</td>\n",
       "      <td>0.420000</td>\n",
       "      <td>0.000000</td>\n",
       "      <td>0.000000</td>\n",
       "      <td>0.000000</td>\n",
       "    </tr>\n",
       "    <tr>\n",
       "      <th>25%</th>\n",
       "      <td>223.500000</td>\n",
       "      <td>0.000000</td>\n",
       "      <td>2.000000</td>\n",
       "      <td>20.125000</td>\n",
       "      <td>0.000000</td>\n",
       "      <td>0.000000</td>\n",
       "      <td>7.910400</td>\n",
       "    </tr>\n",
       "    <tr>\n",
       "      <th>50%</th>\n",
       "      <td>446.000000</td>\n",
       "      <td>0.000000</td>\n",
       "      <td>3.000000</td>\n",
       "      <td>28.000000</td>\n",
       "      <td>0.000000</td>\n",
       "      <td>0.000000</td>\n",
       "      <td>14.454200</td>\n",
       "    </tr>\n",
       "    <tr>\n",
       "      <th>75%</th>\n",
       "      <td>668.500000</td>\n",
       "      <td>1.000000</td>\n",
       "      <td>3.000000</td>\n",
       "      <td>38.000000</td>\n",
       "      <td>1.000000</td>\n",
       "      <td>0.000000</td>\n",
       "      <td>31.000000</td>\n",
       "    </tr>\n",
       "    <tr>\n",
       "      <th>max</th>\n",
       "      <td>891.000000</td>\n",
       "      <td>1.000000</td>\n",
       "      <td>3.000000</td>\n",
       "      <td>80.000000</td>\n",
       "      <td>8.000000</td>\n",
       "      <td>6.000000</td>\n",
       "      <td>512.329200</td>\n",
       "    </tr>\n",
       "  </tbody>\n",
       "</table>\n",
       "</div>"
      ],
      "text/plain": [
       "       PassengerId    Survived      Pclass         Age       SibSp  \\\n",
       "count   891.000000  891.000000  891.000000  714.000000  891.000000   \n",
       "mean    446.000000    0.383838    2.308642   29.699118    0.523008   \n",
       "std     257.353842    0.486592    0.836071   14.526497    1.102743   \n",
       "min       1.000000    0.000000    1.000000    0.420000    0.000000   \n",
       "25%     223.500000    0.000000    2.000000   20.125000    0.000000   \n",
       "50%     446.000000    0.000000    3.000000   28.000000    0.000000   \n",
       "75%     668.500000    1.000000    3.000000   38.000000    1.000000   \n",
       "max     891.000000    1.000000    3.000000   80.000000    8.000000   \n",
       "\n",
       "            Parch        Fare  \n",
       "count  891.000000  891.000000  \n",
       "mean     0.381594   32.204208  \n",
       "std      0.806057   49.693429  \n",
       "min      0.000000    0.000000  \n",
       "25%      0.000000    7.910400  \n",
       "50%      0.000000   14.454200  \n",
       "75%      0.000000   31.000000  \n",
       "max      6.000000  512.329200  "
      ]
     },
     "execution_count": 6,
     "metadata": {},
     "output_type": "execute_result"
    }
   ],
   "source": [
    "df.describe()"
   ]
  },
  {
   "cell_type": "markdown",
   "id": "0361f09b",
   "metadata": {},
   "source": [
    "- Total samples are 891 for the training test.\n",
    "- Survived is a category with 0 or 1 values and present a 38% survival rate.\n",
    "- Most passengers (> 75%) did not travel with parents or children.\n",
    "- Passengers on the titanic were mostly young since q75 is at age 38 and max age is 80."
   ]
  },
  {
   "cell_type": "code",
   "execution_count": 7,
   "id": "1e432955",
   "metadata": {},
   "outputs": [
    {
     "data": {
      "text/html": [
       "<div>\n",
       "<style scoped>\n",
       "    .dataframe tbody tr th:only-of-type {\n",
       "        vertical-align: middle;\n",
       "    }\n",
       "\n",
       "    .dataframe tbody tr th {\n",
       "        vertical-align: top;\n",
       "    }\n",
       "\n",
       "    .dataframe thead th {\n",
       "        text-align: right;\n",
       "    }\n",
       "</style>\n",
       "<table border=\"1\" class=\"dataframe\">\n",
       "  <thead>\n",
       "    <tr style=\"text-align: right;\">\n",
       "      <th></th>\n",
       "      <th>Name</th>\n",
       "      <th>Sex</th>\n",
       "      <th>Ticket</th>\n",
       "      <th>Cabin</th>\n",
       "      <th>Embarked</th>\n",
       "    </tr>\n",
       "  </thead>\n",
       "  <tbody>\n",
       "    <tr>\n",
       "      <th>count</th>\n",
       "      <td>891</td>\n",
       "      <td>891</td>\n",
       "      <td>891</td>\n",
       "      <td>204</td>\n",
       "      <td>889</td>\n",
       "    </tr>\n",
       "    <tr>\n",
       "      <th>unique</th>\n",
       "      <td>891</td>\n",
       "      <td>2</td>\n",
       "      <td>681</td>\n",
       "      <td>147</td>\n",
       "      <td>3</td>\n",
       "    </tr>\n",
       "    <tr>\n",
       "      <th>top</th>\n",
       "      <td>Knight, Mr. Robert J</td>\n",
       "      <td>male</td>\n",
       "      <td>1601</td>\n",
       "      <td>B96 B98</td>\n",
       "      <td>S</td>\n",
       "    </tr>\n",
       "    <tr>\n",
       "      <th>freq</th>\n",
       "      <td>1</td>\n",
       "      <td>577</td>\n",
       "      <td>7</td>\n",
       "      <td>4</td>\n",
       "      <td>644</td>\n",
       "    </tr>\n",
       "  </tbody>\n",
       "</table>\n",
       "</div>"
      ],
      "text/plain": [
       "                        Name   Sex Ticket    Cabin Embarked\n",
       "count                    891   891    891      204      889\n",
       "unique                   891     2    681      147        3\n",
       "top     Knight, Mr. Robert J  male   1601  B96 B98        S\n",
       "freq                       1   577      7        4      644"
      ]
     },
     "execution_count": 7,
     "metadata": {},
     "output_type": "execute_result"
    }
   ],
   "source": [
    "df.describe(include='O')"
   ]
  },
  {
   "cell_type": "markdown",
   "id": "5a0708c5",
   "metadata": {},
   "source": [
    "- Sex values only have 2 possible values.\n",
    "- Ticket and Cabin values present a high rate of duplicates\n",
    "- Embarked present 3 values with the top value being S (Southampton, the first of the 3 ports before the accident took place)"
   ]
  },
  {
   "cell_type": "code",
   "execution_count": 8,
   "id": "d5cb4e37",
   "metadata": {},
   "outputs": [
    {
     "name": "stdout",
     "output_type": "stream",
     "text": [
      "<class 'pandas.core.frame.DataFrame'>\n",
      "RangeIndex: 891 entries, 0 to 890\n",
      "Data columns (total 12 columns):\n",
      " #   Column       Non-Null Count  Dtype  \n",
      "---  ------       --------------  -----  \n",
      " 0   PassengerId  891 non-null    int64  \n",
      " 1   Survived     891 non-null    int64  \n",
      " 2   Pclass       891 non-null    int64  \n",
      " 3   Name         891 non-null    object \n",
      " 4   Sex          891 non-null    object \n",
      " 5   Age          714 non-null    float64\n",
      " 6   SibSp        891 non-null    int64  \n",
      " 7   Parch        891 non-null    int64  \n",
      " 8   Ticket       891 non-null    object \n",
      " 9   Fare         891 non-null    float64\n",
      " 10  Cabin        204 non-null    object \n",
      " 11  Embarked     889 non-null    object \n",
      "dtypes: float64(2), int64(5), object(5)\n",
      "memory usage: 83.7+ KB\n",
      "None\n"
     ]
    }
   ],
   "source": [
    "print(df.info())"
   ]
  },
  {
   "cell_type": "code",
   "execution_count": 9,
   "id": "ffe7f64e",
   "metadata": {},
   "outputs": [
    {
     "name": "stdout",
     "output_type": "stream",
     "text": [
      "<class 'pandas.core.frame.DataFrame'>\n",
      "RangeIndex: 418 entries, 0 to 417\n",
      "Data columns (total 11 columns):\n",
      " #   Column       Non-Null Count  Dtype  \n",
      "---  ------       --------------  -----  \n",
      " 0   PassengerId  418 non-null    int64  \n",
      " 1   Pclass       418 non-null    int64  \n",
      " 2   Name         418 non-null    object \n",
      " 3   Sex          418 non-null    object \n",
      " 4   Age          332 non-null    float64\n",
      " 5   SibSp        418 non-null    int64  \n",
      " 6   Parch        418 non-null    int64  \n",
      " 7   Ticket       418 non-null    object \n",
      " 8   Fare         417 non-null    float64\n",
      " 9   Cabin        91 non-null     object \n",
      " 10  Embarked     418 non-null    object \n",
      "dtypes: float64(2), int64(4), object(5)\n",
      "memory usage: 36.0+ KB\n",
      "None\n"
     ]
    }
   ],
   "source": [
    "print(df_test.info())"
   ]
  },
  {
   "cell_type": "code",
   "execution_count": 10,
   "id": "b8af225a",
   "metadata": {},
   "outputs": [
    {
     "name": "stdout",
     "output_type": "stream",
     "text": [
      "PassengerId      0\n",
      "Survived         0\n",
      "Pclass           0\n",
      "Name             0\n",
      "Sex              0\n",
      "Age            177\n",
      "SibSp            0\n",
      "Parch            0\n",
      "Ticket           0\n",
      "Fare             0\n",
      "Cabin          687\n",
      "Embarked         2\n",
      "dtype: int64\n",
      "//////////////////////////////////////////////////\n",
      "PassengerId      0\n",
      "Pclass           0\n",
      "Name             0\n",
      "Sex              0\n",
      "Age             86\n",
      "SibSp            0\n",
      "Parch            0\n",
      "Ticket           0\n",
      "Fare             1\n",
      "Cabin          327\n",
      "Embarked         0\n",
      "dtype: int64\n"
     ]
    }
   ],
   "source": [
    "print(df.isnull().sum())\n",
    "print('/'*50)\n",
    "print(df_test.isnull().sum())\n"
   ]
  },
  {
   "cell_type": "markdown",
   "id": "37451052",
   "metadata": {},
   "source": [
    "## Correlation of features. "
   ]
  },
  {
   "cell_type": "markdown",
   "id": "cb0a442c",
   "metadata": {},
   "source": [
    "We will check survival correlation between the categorical features."
   ]
  },
  {
   "cell_type": "code",
   "execution_count": 11,
   "id": "e4efa736",
   "metadata": {},
   "outputs": [
    {
     "data": {
      "text/html": [
       "<div>\n",
       "<style scoped>\n",
       "    .dataframe tbody tr th:only-of-type {\n",
       "        vertical-align: middle;\n",
       "    }\n",
       "\n",
       "    .dataframe tbody tr th {\n",
       "        vertical-align: top;\n",
       "    }\n",
       "\n",
       "    .dataframe thead th {\n",
       "        text-align: right;\n",
       "    }\n",
       "</style>\n",
       "<table border=\"1\" class=\"dataframe\">\n",
       "  <thead>\n",
       "    <tr style=\"text-align: right;\">\n",
       "      <th></th>\n",
       "      <th>Pclass</th>\n",
       "      <th>Survived</th>\n",
       "    </tr>\n",
       "  </thead>\n",
       "  <tbody>\n",
       "    <tr>\n",
       "      <th>0</th>\n",
       "      <td>1</td>\n",
       "      <td>0.629630</td>\n",
       "    </tr>\n",
       "    <tr>\n",
       "      <th>1</th>\n",
       "      <td>2</td>\n",
       "      <td>0.472826</td>\n",
       "    </tr>\n",
       "    <tr>\n",
       "      <th>2</th>\n",
       "      <td>3</td>\n",
       "      <td>0.242363</td>\n",
       "    </tr>\n",
       "  </tbody>\n",
       "</table>\n",
       "</div>"
      ],
      "text/plain": [
       "   Pclass  Survived\n",
       "0       1  0.629630\n",
       "1       2  0.472826\n",
       "2       3  0.242363"
      ]
     },
     "execution_count": 11,
     "metadata": {},
     "output_type": "execute_result"
    }
   ],
   "source": [
    "df[['Pclass', 'Survived']].groupby(['Pclass'], as_index=False).mean().sort_values(by='Survived', ascending=False)"
   ]
  },
  {
   "cell_type": "code",
   "execution_count": 12,
   "id": "cb566164",
   "metadata": {},
   "outputs": [
    {
     "data": {
      "text/html": [
       "<div>\n",
       "<style scoped>\n",
       "    .dataframe tbody tr th:only-of-type {\n",
       "        vertical-align: middle;\n",
       "    }\n",
       "\n",
       "    .dataframe tbody tr th {\n",
       "        vertical-align: top;\n",
       "    }\n",
       "\n",
       "    .dataframe thead th {\n",
       "        text-align: right;\n",
       "    }\n",
       "</style>\n",
       "<table border=\"1\" class=\"dataframe\">\n",
       "  <thead>\n",
       "    <tr style=\"text-align: right;\">\n",
       "      <th></th>\n",
       "      <th>Sex</th>\n",
       "      <th>Survived</th>\n",
       "    </tr>\n",
       "  </thead>\n",
       "  <tbody>\n",
       "    <tr>\n",
       "      <th>0</th>\n",
       "      <td>female</td>\n",
       "      <td>0.742038</td>\n",
       "    </tr>\n",
       "    <tr>\n",
       "      <th>1</th>\n",
       "      <td>male</td>\n",
       "      <td>0.188908</td>\n",
       "    </tr>\n",
       "  </tbody>\n",
       "</table>\n",
       "</div>"
      ],
      "text/plain": [
       "      Sex  Survived\n",
       "0  female  0.742038\n",
       "1    male  0.188908"
      ]
     },
     "execution_count": 12,
     "metadata": {},
     "output_type": "execute_result"
    }
   ],
   "source": [
    "df[['Sex', 'Survived']].groupby(['Sex'], as_index=False).mean().sort_values(by='Survived', ascending=False)"
   ]
  },
  {
   "cell_type": "code",
   "execution_count": 13,
   "id": "97106be7",
   "metadata": {},
   "outputs": [
    {
     "data": {
      "text/html": [
       "<div>\n",
       "<style scoped>\n",
       "    .dataframe tbody tr th:only-of-type {\n",
       "        vertical-align: middle;\n",
       "    }\n",
       "\n",
       "    .dataframe tbody tr th {\n",
       "        vertical-align: top;\n",
       "    }\n",
       "\n",
       "    .dataframe thead th {\n",
       "        text-align: right;\n",
       "    }\n",
       "</style>\n",
       "<table border=\"1\" class=\"dataframe\">\n",
       "  <thead>\n",
       "    <tr style=\"text-align: right;\">\n",
       "      <th></th>\n",
       "      <th>Embarked</th>\n",
       "      <th>Survived</th>\n",
       "    </tr>\n",
       "  </thead>\n",
       "  <tbody>\n",
       "    <tr>\n",
       "      <th>0</th>\n",
       "      <td>C</td>\n",
       "      <td>0.553571</td>\n",
       "    </tr>\n",
       "    <tr>\n",
       "      <th>1</th>\n",
       "      <td>Q</td>\n",
       "      <td>0.389610</td>\n",
       "    </tr>\n",
       "    <tr>\n",
       "      <th>2</th>\n",
       "      <td>S</td>\n",
       "      <td>0.336957</td>\n",
       "    </tr>\n",
       "  </tbody>\n",
       "</table>\n",
       "</div>"
      ],
      "text/plain": [
       "  Embarked  Survived\n",
       "0        C  0.553571\n",
       "1        Q  0.389610\n",
       "2        S  0.336957"
      ]
     },
     "execution_count": 13,
     "metadata": {},
     "output_type": "execute_result"
    }
   ],
   "source": [
    "df[['Embarked', 'Survived']].groupby(['Embarked'], as_index=False).mean().sort_values(by='Survived', ascending=False)"
   ]
  },
  {
   "cell_type": "markdown",
   "id": "295790d3",
   "metadata": {},
   "source": [
    "Since the Cabin value may be biased towards the declarations took after the accident we will transform the values to a binary ditribution and check if this assumption could be right."
   ]
  },
  {
   "cell_type": "code",
   "execution_count": 14,
   "id": "27389507",
   "metadata": {},
   "outputs": [
    {
     "data": {
      "text/html": [
       "<div>\n",
       "<style scoped>\n",
       "    .dataframe tbody tr th:only-of-type {\n",
       "        vertical-align: middle;\n",
       "    }\n",
       "\n",
       "    .dataframe tbody tr th {\n",
       "        vertical-align: top;\n",
       "    }\n",
       "\n",
       "    .dataframe thead th {\n",
       "        text-align: right;\n",
       "    }\n",
       "</style>\n",
       "<table border=\"1\" class=\"dataframe\">\n",
       "  <thead>\n",
       "    <tr style=\"text-align: right;\">\n",
       "      <th></th>\n",
       "      <th>Cabin</th>\n",
       "      <th>Survived</th>\n",
       "    </tr>\n",
       "  </thead>\n",
       "  <tbody>\n",
       "    <tr>\n",
       "      <th>1</th>\n",
       "      <td>1</td>\n",
       "      <td>0.666667</td>\n",
       "    </tr>\n",
       "    <tr>\n",
       "      <th>0</th>\n",
       "      <td>0</td>\n",
       "      <td>0.299854</td>\n",
       "    </tr>\n",
       "  </tbody>\n",
       "</table>\n",
       "</div>"
      ],
      "text/plain": [
       "   Cabin  Survived\n",
       "1      1  0.666667\n",
       "0      0  0.299854"
      ]
     },
     "execution_count": 14,
     "metadata": {},
     "output_type": "execute_result"
    }
   ],
   "source": [
    "df['Cabin'] = df['Cabin'].notnull().astype(int)\n",
    "df[['Cabin', 'Survived']].groupby(['Cabin'], as_index=False).mean().sort_values(by='Survived', ascending=False)"
   ]
  },
  {
   "cell_type": "code",
   "execution_count": 15,
   "id": "4276be9e",
   "metadata": {},
   "outputs": [],
   "source": [
    "df_test['Cabin'] = df_test['Cabin'].notnull().astype(int)"
   ]
  },
  {
   "cell_type": "markdown",
   "id": "0693f1b2",
   "metadata": {},
   "source": [
    "We can see a clear correlation between survival and having the cabin value available and thus we can assume there is a bias in the feature values."
   ]
  },
  {
   "cell_type": "markdown",
   "id": "7686c888",
   "metadata": {},
   "source": [
    "## Visualizations"
   ]
  },
  {
   "cell_type": "markdown",
   "id": "2b568558",
   "metadata": {},
   "source": [
    "We can look at the distribution of survivors by age."
   ]
  },
  {
   "cell_type": "code",
   "execution_count": 16,
   "id": "2c2d85f3",
   "metadata": {},
   "outputs": [
    {
     "data": {
      "image/png": "[encoded data removed]",
      "text/plain": [
       "<Figure size 432x216 with 2 Axes>"
      ]
     },
     "metadata": {
      "needs_background": "light"
     },
     "output_type": "display_data"
    }
   ],
   "source": [
    "g = sns.FacetGrid(df, col='Survived')\n",
    "g.map(plt.hist, 'Age', bins=20);"
   ]
  },
  {
   "cell_type": "markdown",
   "id": "d2e93584",
   "metadata": {},
   "source": [
    "And categorize it by class."
   ]
  },
  {
   "cell_type": "code",
   "execution_count": 17,
   "id": "fd3169db",
   "metadata": {},
   "outputs": [
    {
     "data": {
      "image/png": "[encoded data removed]",
      "text/plain": [
       "<Figure size 641.6x475.2 with 6 Axes>"
      ]
     },
     "metadata": {
      "needs_background": "light"
     },
     "output_type": "display_data"
    }
   ],
   "source": [
    "grid = sns.FacetGrid(df, col='Survived', row='Pclass', height=2.2, aspect=2)\n",
    "grid.map(plt.hist, 'Age', alpha=.8, bins=20)\n",
    "grid.add_legend()\n",
    "plt.show()"
   ]
  },
  {
   "cell_type": "markdown",
   "id": "fe4b808e",
   "metadata": {},
   "source": [
    "We can also look at the port of embarking and figure out if it had a significant impact on survival rate."
   ]
  },
  {
   "cell_type": "code",
   "execution_count": 18,
   "id": "fa9045b6",
   "metadata": {},
   "outputs": [
    {
     "data": {
      "image/png": "[encoded data removed]",
      "text/plain": [
       "<Figure size 1150.5x360 with 3 Axes>"
      ]
     },
     "metadata": {
      "needs_background": "light"
     },
     "output_type": "display_data"
    }
   ],
   "source": [
    "sns.catplot(x='Pclass',col='Embarked',y='Survived',hue='Sex',data=df,kind='point')\n",
    "plt.show()"
   ]
  },
  {
   "cell_type": "code",
   "execution_count": 19,
   "id": "abdac2b2",
   "metadata": {},
   "outputs": [
    {
     "name": "stderr",
     "output_type": "stream",
     "text": [
      "c:\\ProgramData\\Anaconda3\\lib\\site-packages\\seaborn\\axisgrid.py:645: UserWarning: Using the barplot function without specifying `order` is likely to produce an incorrect plot.\n",
      "  warnings.warn(warning)\n"
     ]
    },
    {
     "data": {
      "image/png": "[encoded data removed]",
      "text/plain": [
       "<Figure size 641.6x475.2 with 6 Axes>"
      ]
     },
     "metadata": {
      "needs_background": "light"
     },
     "output_type": "display_data"
    }
   ],
   "source": [
    "grid = sns.FacetGrid(df, col='Survived', row='Embarked', height=2.2, aspect=2)\n",
    "grid.map(sns.barplot, 'Sex', 'Pclass')\n",
    "grid.add_legend()\n",
    "plt.show()"
   ]
  },
  {
   "cell_type": "markdown",
   "id": "af1bc7dd",
   "metadata": {},
   "source": [
    "We can see that males had better survival rate in Pclass=3 when compared with Pclass=2 for C and Q ports. This could mean that emarking port could have some relevance for certain groups.\n",
    "\n",
    "Let's convert them into dummy variables so we can use afterwards."
   ]
  },
  {
   "cell_type": "markdown",
   "id": "954f9c33",
   "metadata": {},
   "source": [
    "Most common value foor Embarked is S so let's fill the two missing values with that."
   ]
  },
  {
   "cell_type": "code",
   "execution_count": 20,
   "id": "aa6c6850",
   "metadata": {},
   "outputs": [],
   "source": [
    "df['Embarked'] = df['Embarked'].fillna('S')\n",
    "df_test['Embarked'] = df_test['Embarked'].fillna('S')"
   ]
  },
  {
   "cell_type": "code",
   "execution_count": 21,
   "id": "a4e58b95",
   "metadata": {},
   "outputs": [],
   "source": [
    "df = df.merge(pd.get_dummies(df['Embarked']), left_index=True, right_index=True)\n",
    "df_test = df_test.merge(pd.get_dummies(df_test['Embarked']), left_index=True, right_index=True)"
   ]
  },
  {
   "cell_type": "markdown",
   "id": "776f8d99",
   "metadata": {
    "papermill": {
     "duration": 0.026298,
     "end_time": "2022-05-13T15:54:06.543893",
     "exception": false,
     "start_time": "2022-05-13T15:54:06.517595",
     "status": "completed"
    },
    "tags": []
   },
   "source": [
    "# Dataframe Transformations"
   ]
  },
  {
   "cell_type": "code",
   "execution_count": 22,
   "id": "33be6688",
   "metadata": {
    "execution": {
     "iopub.execute_input": "2022-05-13T15:54:06.598948Z",
     "iopub.status.busy": "2022-05-13T15:54:06.598628Z",
     "iopub.status.idle": "2022-05-13T15:54:06.602906Z",
     "shell.execute_reply": "2022-05-13T15:54:06.601956Z"
    },
    "papermill": {
     "duration": 0.034294,
     "end_time": "2022-05-13T15:54:06.605040",
     "exception": false,
     "start_time": "2022-05-13T15:54:06.570746",
     "status": "completed"
    },
    "tags": []
   },
   "outputs": [],
   "source": [
    "# model_col = ['Survived', 'Pclass', 'Age_new', 'SibSp', 'Parch', 'Sex_new', 'Cabin_new']"
   ]
  },
  {
   "cell_type": "markdown",
   "id": "679f1665",
   "metadata": {
    "papermill": {
     "duration": 0.026776,
     "end_time": "2022-05-13T15:54:06.658578",
     "exception": false,
     "start_time": "2022-05-13T15:54:06.631802",
     "status": "completed"
    },
    "tags": []
   },
   "source": [
    "## Transformations to training and testing dataset"
   ]
  },
  {
   "cell_type": "markdown",
   "id": "e95f470d",
   "metadata": {},
   "source": [
    "In this part we will transform training and testing datasets into workable datasets."
   ]
  },
  {
   "cell_type": "markdown",
   "id": "a5104989",
   "metadata": {},
   "source": [
    "First we will drop the features we didn't see fit for the problem."
   ]
  },
  {
   "cell_type": "code",
   "execution_count": 23,
   "id": "f8088250",
   "metadata": {},
   "outputs": [],
   "source": [
    "df = df.drop(['Ticket'], axis=1)\n",
    "df_test = df_test.drop(['Ticket'], axis=1)"
   ]
  },
  {
   "cell_type": "markdown",
   "id": "e13772d4",
   "metadata": {},
   "source": [
    "After that we will take a look to the Name feature."
   ]
  },
  {
   "cell_type": "code",
   "execution_count": 24,
   "id": "82fb94e4",
   "metadata": {},
   "outputs": [
    {
     "data": {
      "text/plain": [
       "886                       Montvila, Rev. Juozas\n",
       "887                Graham, Miss. Margaret Edith\n",
       "888    Johnston, Miss. Catherine Helen \"Carrie\"\n",
       "889                       Behr, Mr. Karl Howell\n",
       "890                         Dooley, Mr. Patrick\n",
       "Name: Name, dtype: object"
      ]
     },
     "execution_count": 24,
     "metadata": {},
     "output_type": "execute_result"
    }
   ],
   "source": [
    "df['Name'].tail()"
   ]
  },
  {
   "cell_type": "markdown",
   "id": "71151778",
   "metadata": {},
   "source": [
    "After reviewing the data we can see that the passengers had a tittle attaached to their names.\n",
    "\n",
    "Let's find out what are the most common titles by extracting them from the names."
   ]
  },
  {
   "cell_type": "code",
   "execution_count": 25,
   "id": "fbd52cdd",
   "metadata": {},
   "outputs": [
    {
     "name": "stdout",
     "output_type": "stream",
     "text": [
      "891\n"
     ]
    },
    {
     "data": {
      "text/html": [
       "<div>\n",
       "<style scoped>\n",
       "    .dataframe tbody tr th:only-of-type {\n",
       "        vertical-align: middle;\n",
       "    }\n",
       "\n",
       "    .dataframe tbody tr th {\n",
       "        vertical-align: top;\n",
       "    }\n",
       "\n",
       "    .dataframe thead th {\n",
       "        text-align: right;\n",
       "    }\n",
       "</style>\n",
       "<table border=\"1\" class=\"dataframe\">\n",
       "  <thead>\n",
       "    <tr style=\"text-align: right;\">\n",
       "      <th>Sex</th>\n",
       "      <th>female</th>\n",
       "      <th>male</th>\n",
       "    </tr>\n",
       "    <tr>\n",
       "      <th>Title</th>\n",
       "      <th></th>\n",
       "      <th></th>\n",
       "    </tr>\n",
       "  </thead>\n",
       "  <tbody>\n",
       "    <tr>\n",
       "      <th>Capt</th>\n",
       "      <td>0</td>\n",
       "      <td>1</td>\n",
       "    </tr>\n",
       "    <tr>\n",
       "      <th>Col</th>\n",
       "      <td>0</td>\n",
       "      <td>2</td>\n",
       "    </tr>\n",
       "    <tr>\n",
       "      <th>Countess</th>\n",
       "      <td>1</td>\n",
       "      <td>0</td>\n",
       "    </tr>\n",
       "    <tr>\n",
       "      <th>Don</th>\n",
       "      <td>0</td>\n",
       "      <td>1</td>\n",
       "    </tr>\n",
       "    <tr>\n",
       "      <th>Dr</th>\n",
       "      <td>1</td>\n",
       "      <td>6</td>\n",
       "    </tr>\n",
       "    <tr>\n",
       "      <th>Jonkheer</th>\n",
       "      <td>0</td>\n",
       "      <td>1</td>\n",
       "    </tr>\n",
       "    <tr>\n",
       "      <th>Lady</th>\n",
       "      <td>1</td>\n",
       "      <td>0</td>\n",
       "    </tr>\n",
       "    <tr>\n",
       "      <th>Major</th>\n",
       "      <td>0</td>\n",
       "      <td>2</td>\n",
       "    </tr>\n",
       "    <tr>\n",
       "      <th>Master</th>\n",
       "      <td>0</td>\n",
       "      <td>40</td>\n",
       "    </tr>\n",
       "    <tr>\n",
       "      <th>Miss</th>\n",
       "      <td>182</td>\n",
       "      <td>0</td>\n",
       "    </tr>\n",
       "    <tr>\n",
       "      <th>Mlle</th>\n",
       "      <td>2</td>\n",
       "      <td>0</td>\n",
       "    </tr>\n",
       "    <tr>\n",
       "      <th>Mme</th>\n",
       "      <td>1</td>\n",
       "      <td>0</td>\n",
       "    </tr>\n",
       "    <tr>\n",
       "      <th>Mr</th>\n",
       "      <td>0</td>\n",
       "      <td>517</td>\n",
       "    </tr>\n",
       "    <tr>\n",
       "      <th>Mrs</th>\n",
       "      <td>125</td>\n",
       "      <td>0</td>\n",
       "    </tr>\n",
       "    <tr>\n",
       "      <th>Ms</th>\n",
       "      <td>1</td>\n",
       "      <td>0</td>\n",
       "    </tr>\n",
       "    <tr>\n",
       "      <th>Rev</th>\n",
       "      <td>0</td>\n",
       "      <td>6</td>\n",
       "    </tr>\n",
       "    <tr>\n",
       "      <th>Sir</th>\n",
       "      <td>0</td>\n",
       "      <td>1</td>\n",
       "    </tr>\n",
       "  </tbody>\n",
       "</table>\n",
       "</div>"
      ],
      "text/plain": [
       "Sex       female  male\n",
       "Title                 \n",
       "Capt           0     1\n",
       "Col            0     2\n",
       "Countess       1     0\n",
       "Don            0     1\n",
       "Dr             1     6\n",
       "Jonkheer       0     1\n",
       "Lady           1     0\n",
       "Major          0     2\n",
       "Master         0    40\n",
       "Miss         182     0\n",
       "Mlle           2     0\n",
       "Mme            1     0\n",
       "Mr             0   517\n",
       "Mrs          125     0\n",
       "Ms             1     0\n",
       "Rev            0     6\n",
       "Sir            0     1"
      ]
     },
     "execution_count": 25,
     "metadata": {},
     "output_type": "execute_result"
    }
   ],
   "source": [
    "# every title is before a \".\" and after a *blank space* so we will look there\n",
    "\n",
    "for dataset in [df, df_test]:\n",
    "    dataset['Title'] = dataset.Name.str.extract(' ([A-Za-z]+)\\.', expand=False)\n",
    "\n",
    "print(df['Title'].value_counts().sum())\n",
    "pd.crosstab(df['Title'], df['Sex'])"
   ]
  },
  {
   "cell_type": "markdown",
   "id": "fe8fd5aa",
   "metadata": {},
   "source": [
    "According to the list we can assume 2 things:\n",
    "\n",
    "- Titles in names were universal.\n",
    "- Some passengers had titles beyond Mrs and Mr which can indicate a higher status in society.\n",
    "\n",
    "We can change rare titles to a new variable \"HighStatus\" and see the correlation with survival.\n",
    "We can also change the rest of the titles and look for further correlations."
   ]
  },
  {
   "cell_type": "code",
   "execution_count": 26,
   "id": "2bc65a16",
   "metadata": {},
   "outputs": [],
   "source": [
    "for dataset in [df, df_test]:\n",
    "    dataset['HighStatus'] = dataset['Title'].isin(\n",
    "        ['Lady', 'Countess','Capt', 'Col',\t'Don', 'Dr', 'Major', 'Master', 'Rev', 'Sir', 'Jonkheer', 'Dona']\n",
    "        ).astype(int)\n",
    "\n",
    "    dataset['Title'] = dataset['Title'].replace('Mlle', 'Miss')\n",
    "    dataset['Title'] = dataset['Title'].replace('Ms', 'Miss')\n",
    "    dataset['Title'] = dataset['Title'].replace('Mme', 'Mrs')"
   ]
  },
  {
   "cell_type": "code",
   "execution_count": 27,
   "id": "5cc1352d",
   "metadata": {},
   "outputs": [
    {
     "data": {
      "text/html": [
       "<div>\n",
       "<style scoped>\n",
       "    .dataframe tbody tr th:only-of-type {\n",
       "        vertical-align: middle;\n",
       "    }\n",
       "\n",
       "    .dataframe tbody tr th {\n",
       "        vertical-align: top;\n",
       "    }\n",
       "\n",
       "    .dataframe thead th {\n",
       "        text-align: right;\n",
       "    }\n",
       "</style>\n",
       "<table border=\"1\" class=\"dataframe\">\n",
       "  <thead>\n",
       "    <tr style=\"text-align: right;\">\n",
       "      <th></th>\n",
       "      <th>HighStatus</th>\n",
       "      <th>Survived</th>\n",
       "    </tr>\n",
       "  </thead>\n",
       "  <tbody>\n",
       "    <tr>\n",
       "      <th>0</th>\n",
       "      <td>0</td>\n",
       "      <td>0.375604</td>\n",
       "    </tr>\n",
       "    <tr>\n",
       "      <th>1</th>\n",
       "      <td>1</td>\n",
       "      <td>0.492063</td>\n",
       "    </tr>\n",
       "  </tbody>\n",
       "</table>\n",
       "</div>"
      ],
      "text/plain": [
       "   HighStatus  Survived\n",
       "0           0  0.375604\n",
       "1           1  0.492063"
      ]
     },
     "execution_count": 27,
     "metadata": {},
     "output_type": "execute_result"
    }
   ],
   "source": [
    "df[['HighStatus', 'Survived']].groupby(['HighStatus'], as_index=False).mean()"
   ]
  },
  {
   "cell_type": "markdown",
   "id": "a3b1d620",
   "metadata": {},
   "source": [
    "Half of the people with a social title survived so we can assume this is a relevant feature."
   ]
  },
  {
   "cell_type": "markdown",
   "id": "de811dcc",
   "metadata": {},
   "source": [
    "Now we transform the Sex feature into a binary feature."
   ]
  },
  {
   "cell_type": "code",
   "execution_count": 28,
   "id": "1f962604",
   "metadata": {},
   "outputs": [],
   "source": [
    "for dataset in [df, df_test]:\n",
    "    dataset['Sex'] = (dataset['Sex'].values == 'female').astype(int)"
   ]
  },
  {
   "cell_type": "markdown",
   "id": "bd7689e4",
   "metadata": {},
   "source": [
    "One-hot encode of relevant variables."
   ]
  },
  {
   "cell_type": "code",
   "execution_count": 29,
   "id": "236e57be",
   "metadata": {},
   "outputs": [],
   "source": [
    "for dataset in [df, df_test]:\n",
    "    # define values\n",
    "    data = dataset['Pclass']\n",
    "    values = np.array(data)\n",
    "    \n",
    "    # integer encode\n",
    "    label_encoder = LabelEncoder()\n",
    "    integer_encoded = label_encoder.fit_transform(values)\n",
    "    \n",
    "    # binary encode\n",
    "    onehot_encoder = OneHotEncoder(sparse=False)\n",
    "    integer_encoded = integer_encoded.reshape(len(integer_encoded), 1)\n",
    "    onehot_encoded = onehot_encoder.fit_transform(integer_encoded)\n",
    "    dataset[['Pclass1', 'Pclass2', 'Pclass3']] = onehot_encoded.astype(int)\n",
    "    #df.drop('Pclass', axis=1, inplace=True)"
   ]
  },
  {
   "cell_type": "markdown",
   "id": "deffe5d6",
   "metadata": {},
   "source": [
    "## Completing the Age feature"
   ]
  },
  {
   "cell_type": "markdown",
   "id": "067d35be",
   "metadata": {},
   "source": [
    "Age is the only feature that has a relevant amount of NaN values.\n",
    "\n",
    "The options are:\n",
    "\n",
    "    1. Generate random numbers to fill the NaN values.\n",
    "    2. Guess the age based on other features.\n",
    "\n",
    "The best result will come, of course, doing the second option although it could be challenging.\n",
    "\n",
    "Lets try to fill the values with predictions drawn of a model."
   ]
  },
  {
   "cell_type": "markdown",
   "id": "5ee7712b",
   "metadata": {},
   "source": [
    "First we have to select the data we are using for th eprediction, we do this based on the correlation matrix. "
   ]
  },
  {
   "cell_type": "code",
   "execution_count": 30,
   "id": "c9f8d240",
   "metadata": {},
   "outputs": [],
   "source": [
    "# Ahora mismo da igual que modelo utilicemos para la prediccion, todos dan un rmse de alrededor de 12 asi que estoy \n",
    "# valorando dejar el kn reg como modelo preferido pero dal la explicacion sobre como todos son bastante similares y que predecir esta feature es bastante complicado\n",
    "\n",
    "cols = ['Pclass1', 'Pclass3', 'Age', 'SibSp', 'Parch', 'Cabin', 'HighStatus']\n",
    "\n",
    "# setting up the train and test datasets\n",
    "#train\n",
    "age_train = df[df['Age'].notna()][cols]\n",
    "age_train_x = age_train.drop('Age', axis=1)\n",
    "age_train_y = age_train['Age']\n",
    "#test\n",
    "age_test = df_test[df_test['Age'].notna()][cols]\n",
    "age_test_x =  age_test.drop('Age', axis=1)\n",
    "age_test_y = age_test['Age']\n",
    "#prediction\n",
    "age_pred_train = df[df['Age'].isna()][cols].drop('Age', axis=1)\n",
    "age_pred_test = df_test[df_test['Age'].isna()][cols].drop('Age', axis=1)"
   ]
  },
  {
   "cell_type": "markdown",
   "id": "94753834",
   "metadata": {},
   "source": [
    "List of regression models to test."
   ]
  },
  {
   "cell_type": "code",
   "execution_count": 31,
   "id": "8b186841",
   "metadata": {},
   "outputs": [
    {
     "name": "stdout",
     "output_type": "stream",
     "text": [
      "ScaledLR : -162.897313253756 (20.960993844555798)\n",
      "ScaledLASSO : -167.03322917696676 (20.80106768010238)\n",
      "ScaledEN : -168.72977473088034 (21.159316523704668)\n",
      "ScaledKNN : -171.5877427443662 (11.553227342620756)\n",
      "ScaledCART : -152.24674410870088 (15.386677715898376)\n",
      "ScaledGBM : -141.79018141483593 (19.29995485805505)\n",
      "ScaledHR : -164.85555571120835 (25.727276547235835)\n",
      "ScaledSVR : -170.50640338762142 (29.93515155077572)\n"
     ]
    }
   ],
   "source": [
    "# setting up pipelines\n",
    "pipelines = []\n",
    "pipelines.append(('ScaledLR', Pipeline([('Scaler', StandardScaler()),('LR',LinearRegression())])))\n",
    "pipelines.append(('ScaledLASSO', Pipeline([('Scaler', StandardScaler()),('LASSO', Lasso())])))\n",
    "pipelines.append(('ScaledEN', Pipeline([('Scaler', StandardScaler()),('EN', ElasticNet())])))\n",
    "pipelines.append(('ScaledKNN', Pipeline([('Scaler', StandardScaler()),('KNN', KNeighborsRegressor())])))\n",
    "pipelines.append(('ScaledCART', Pipeline([('Scaler', StandardScaler()),('CART', DecisionTreeRegressor())])))\n",
    "pipelines.append(('ScaledGBM', Pipeline([('Scaler', StandardScaler()),('GBM', GradientBoostingRegressor())])))\n",
    "pipelines.append(('ScaledHR', Pipeline([('Scaler', StandardScaler()),('HR', HuberRegressor())])))\n",
    "pipelines.append(('ScaledSVR', Pipeline([('Scaler', StandardScaler()),('SVR', LinearSVR())])))\n",
    "\n",
    "# testing models\n",
    "results = []\n",
    "names = []\n",
    "for name, model in pipelines:\n",
    "    kfold = KFold(n_splits=10)\n",
    "    cv_results = cross_val_score(model, age_train_x, age_train_y, cv=kfold, scoring='neg_mean_squared_error')\n",
    "    results.append(cv_results)\n",
    "    names.append(name)\n",
    "    msg = f'{name} : {cv_results.mean()} ({cv_results.std()})'\n",
    "    print(msg)"
   ]
  },
  {
   "cell_type": "markdown",
   "id": "00ded19f",
   "metadata": {},
   "source": [
    "We can conclude KNN is the best prediction model for Age filling although it is not very accurate.\n",
    "\n",
    "Nevertheless, we will use it since it is better than filling with the mean.\n",
    "\n",
    "Next we will search for the best hiperparameters for KNN:"
   ]
  },
  {
   "cell_type": "code",
   "execution_count": 32,
   "id": "6d60bd32",
   "metadata": {},
   "outputs": [
    {
     "name": "stdout",
     "output_type": "stream",
     "text": [
      "RMSE value for k=  1 is: 12.822267317312741\n",
      "RMSE value for k=  2 is: 12.77135498162973\n",
      "RMSE value for k=  3 is: 12.487625328889292\n",
      "RMSE value for k=  4 is: 13.333525397464816\n",
      "RMSE value for k=  5 is: 12.498634328954585\n",
      "RMSE value for k=  6 is: 12.23500566612009\n",
      "RMSE value for k=  7 is: 11.918960929096771\n",
      "RMSE value for k=  8 is: 11.758657827437252\n",
      "RMSE value for k=  9 is: 11.90568471405115\n",
      "RMSE value for k=  10 is: 11.887856777711853\n",
      "RMSE value for k=  11 is: 11.958141220719405\n",
      "RMSE value for k=  12 is: 11.992007938137316\n",
      "RMSE value for k=  13 is: 11.982292176938769\n",
      "RMSE value for k=  14 is: 12.033931566127425\n",
      "RMSE value for k=  15 is: 11.960896870472418\n",
      "RMSE value for k=  16 is: 11.985905200889315\n",
      "RMSE value for k=  17 is: 11.936601645230331\n",
      "RMSE value for k=  18 is: 12.053047379938983\n",
      "RMSE value for k=  19 is: 12.011667895439125\n",
      "RMSE value for k=  20 is: 12.081534858233162\n"
     ]
    },
    {
     "data": {
      "image/png": "[encoded data removed]",
      "text/plain": [
       "<Figure size 432x288 with 1 Axes>"
      ]
     },
     "metadata": {
      "needs_background": "light"
     },
     "output_type": "display_data"
    }
   ],
   "source": [
    "from sklearn import neighbors\n",
    "from sklearn.metrics import mean_squared_error \n",
    "import matplotlib.pyplot as plt\n",
    "%matplotlib inline\n",
    "rmse_val = [] #to store rmse values for different k\n",
    "for K in range(20):\n",
    "    K = K+1\n",
    "    model = neighbors.KNeighborsRegressor(n_neighbors = K, weights='distance')\n",
    "\n",
    "    model.fit(age_train_x, age_train_y)  #fit the model\n",
    "    pred = model.predict(age_test_x) #make prediction on test set\n",
    "    error = np.sqrt(mean_squared_error(age_test_y, pred)) #calculate rmse\n",
    "    rmse_val.append(error) #store rmse values\n",
    "    print('RMSE value for k= ' , K , 'is:', error)\n",
    "curve = pd.DataFrame(rmse_val) #elbow curve \n",
    "curve.plot();"
   ]
  },
  {
   "cell_type": "markdown",
   "id": "4b6f5329",
   "metadata": {},
   "source": [
    "From the results we can determine that `K=8` is the best value for the parameter. "
   ]
  },
  {
   "cell_type": "code",
   "execution_count": 33,
   "id": "829ee078",
   "metadata": {},
   "outputs": [],
   "source": [
    "knn = KNeighborsRegressor(n_neighbors = 8, weights = 'distance')\n",
    "knn.fit(age_train_x, age_train_y)\n",
    "\n",
    "prediction_train = knn.predict(age_pred_train)\n",
    "prediction_test = knn.predict(age_pred_test)"
   ]
  },
  {
   "cell_type": "markdown",
   "id": "18bd78b6",
   "metadata": {},
   "source": [
    "Next we replace the NaN values with the predictions."
   ]
  },
  {
   "cell_type": "code",
   "execution_count": 34,
   "id": "658810bb",
   "metadata": {},
   "outputs": [],
   "source": [
    "df.loc[df['Age'].isna(), 'Age'] = prediction_train\n",
    "df_test.loc[df_test['Age'].isna(), 'Age'] = prediction_test"
   ]
  },
  {
   "cell_type": "code",
   "execution_count": 35,
   "id": "15c606fe",
   "metadata": {},
   "outputs": [
    {
     "name": "stdout",
     "output_type": "stream",
     "text": [
      "<class 'pandas.core.frame.DataFrame'>\n",
      "RangeIndex: 891 entries, 0 to 890\n",
      "Data columns (total 19 columns):\n",
      " #   Column       Non-Null Count  Dtype  \n",
      "---  ------       --------------  -----  \n",
      " 0   PassengerId  891 non-null    int64  \n",
      " 1   Survived     891 non-null    int64  \n",
      " 2   Pclass       891 non-null    int64  \n",
      " 3   Name         891 non-null    object \n",
      " 4   Sex          891 non-null    int32  \n",
      " 5   Age          891 non-null    float64\n",
      " 6   SibSp        891 non-null    int64  \n",
      " 7   Parch        891 non-null    int64  \n",
      " 8   Fare         891 non-null    float64\n",
      " 9   Cabin        891 non-null    int32  \n",
      " 10  Embarked     891 non-null    object \n",
      " 11  C            891 non-null    uint8  \n",
      " 12  Q            891 non-null    uint8  \n",
      " 13  S            891 non-null    uint8  \n",
      " 14  Title        891 non-null    object \n",
      " 15  HighStatus   891 non-null    int32  \n",
      " 16  Pclass1      891 non-null    int64  \n",
      " 17  Pclass2      891 non-null    int64  \n",
      " 18  Pclass3      891 non-null    int64  \n",
      "dtypes: float64(2), int32(3), int64(8), object(3), uint8(3)\n",
      "memory usage: 103.7+ KB\n",
      "None\n"
     ]
    }
   ],
   "source": [
    "print(df.info())"
   ]
  },
  {
   "cell_type": "code",
   "execution_count": 36,
   "id": "21b59875",
   "metadata": {},
   "outputs": [
    {
     "name": "stdout",
     "output_type": "stream",
     "text": [
      "<class 'pandas.core.frame.DataFrame'>\n",
      "RangeIndex: 418 entries, 0 to 417\n",
      "Data columns (total 18 columns):\n",
      " #   Column       Non-Null Count  Dtype  \n",
      "---  ------       --------------  -----  \n",
      " 0   PassengerId  418 non-null    int64  \n",
      " 1   Pclass       418 non-null    int64  \n",
      " 2   Name         418 non-null    object \n",
      " 3   Sex          418 non-null    int32  \n",
      " 4   Age          418 non-null    float64\n",
      " 5   SibSp        418 non-null    int64  \n",
      " 6   Parch        418 non-null    int64  \n",
      " 7   Fare         417 non-null    float64\n",
      " 8   Cabin        418 non-null    int32  \n",
      " 9   Embarked     418 non-null    object \n",
      " 10  C            418 non-null    uint8  \n",
      " 11  Q            418 non-null    uint8  \n",
      " 12  S            418 non-null    uint8  \n",
      " 13  Title        418 non-null    object \n",
      " 14  HighStatus   418 non-null    int32  \n",
      " 15  Pclass1      418 non-null    int64  \n",
      " 16  Pclass2      418 non-null    int64  \n",
      " 17  Pclass3      418 non-null    int64  \n",
      "dtypes: float64(2), int32(3), int64(7), object(3), uint8(3)\n",
      "memory usage: 45.4+ KB\n",
      "None\n"
     ]
    }
   ],
   "source": [
    "print(df_test.info())"
   ]
  },
  {
   "cell_type": "code",
   "execution_count": 37,
   "id": "978a8d1a",
   "metadata": {},
   "outputs": [],
   "source": [
    "df_test['Fare'] = df_test['Fare'].fillna(df_test['Fare'].mean())"
   ]
  },
  {
   "cell_type": "markdown",
   "id": "9f9c509f",
   "metadata": {},
   "source": [
    "# *CURRENTLY WORKING HERE*"
   ]
  },
  {
   "cell_type": "markdown",
   "id": "98b84aa4",
   "metadata": {},
   "source": [
    "revision visual de los resultados"
   ]
  },
  {
   "cell_type": "markdown",
   "id": "2786a519",
   "metadata": {},
   "source": [
    "--------------"
   ]
  },
  {
   "cell_type": "markdown",
   "id": "8c07ceb1",
   "metadata": {
    "papermill": {
     "duration": 0.026405,
     "end_time": "2022-05-13T15:54:06.780901",
     "exception": false,
     "start_time": "2022-05-13T15:54:06.754496",
     "status": "completed"
    },
    "tags": []
   },
   "source": [
    "## PREVIOUS VERSION OF THE NOTEBOOK BEFORE REVAMPING IT"
   ]
  },
  {
   "cell_type": "markdown",
   "id": "af7a7a84",
   "metadata": {
    "papermill": {
     "duration": 0.026147,
     "end_time": "2022-05-13T15:54:06.959573",
     "exception": false,
     "start_time": "2022-05-13T15:54:06.933426",
     "status": "completed"
    },
    "tags": []
   },
   "source": [
    "###"
   ]
  },
  {
   "cell_type": "code",
   "execution_count": 87,
   "id": "990206b7",
   "metadata": {
    "execution": {
     "iopub.execute_input": "2022-05-13T15:54:07.014422Z",
     "iopub.status.busy": "2022-05-13T15:54:07.013992Z",
     "iopub.status.idle": "2022-05-13T15:54:07.554735Z",
     "shell.execute_reply": "2022-05-13T15:54:07.553854Z"
    },
    "papermill": {
     "duration": 0.572504,
     "end_time": "2022-05-13T15:54:07.558734",
     "exception": false,
     "start_time": "2022-05-13T15:54:06.986230",
     "status": "completed"
    },
    "tags": []
   },
   "outputs": [
    {
     "data": {
      "image/png": "[encoded data removed]",
      "text/plain": [
       "<Figure size 1152x720 with 2 Axes>"
      ]
     },
     "metadata": {
      "needs_background": "light"
     },
     "output_type": "display_data"
    }
   ],
   "source": [
    "df_corr = df.corr()\n",
    "plt.figure(figsize=(16,10))\n",
    "sns.heatmap(df_corr, annot=True)\n",
    "plt.show()"
   ]
  },
  {
   "cell_type": "markdown",
   "id": "df551d44",
   "metadata": {
    "papermill": {
     "duration": 0.028132,
     "end_time": "2022-05-13T15:54:07.620287",
     "exception": false,
     "start_time": "2022-05-13T15:54:07.592155",
     "status": "completed"
    },
    "tags": []
   },
   "source": [
    "# MODEL"
   ]
  },
  {
   "cell_type": "code",
   "execution_count": 14,
   "id": "84bc2cce",
   "metadata": {
    "execution": {
     "iopub.execute_input": "2022-05-13T15:54:08.066305Z",
     "iopub.status.busy": "2022-05-13T15:54:08.065965Z",
     "iopub.status.idle": "2022-05-13T15:54:08.076696Z",
     "shell.execute_reply": "2022-05-13T15:54:08.076090Z"
    },
    "papermill": {
     "duration": 0.043484,
     "end_time": "2022-05-13T15:54:08.078764",
     "exception": false,
     "start_time": "2022-05-13T15:54:08.035280",
     "status": "completed"
    },
    "tags": []
   },
   "outputs": [],
   "source": [
    "df_pred = pd.DataFrame()\n",
    "df_pred['PassengerId'] = df_test['PassengerId']\n",
    "df_pred['Survived'] = predictions\n",
    "df_pred.to_csv('titanic_results.csv',index=False)"
   ]
  },
  {
   "cell_type": "markdown",
   "id": "c4a9fca6",
   "metadata": {},
   "source": [
    "----------"
   ]
  },
  {
   "cell_type": "code",
   "execution_count": 16,
   "id": "d8df764e",
   "metadata": {
    "execution": {
     "iopub.execute_input": "2022-05-13T15:54:08.212955Z",
     "iopub.status.busy": "2022-05-13T15:54:08.212690Z",
     "iopub.status.idle": "2022-05-13T15:54:08.224874Z",
     "shell.execute_reply": "2022-05-13T15:54:08.223785Z"
    },
    "papermill": {
     "duration": 0.046204,
     "end_time": "2022-05-13T15:54:08.227091",
     "exception": false,
     "start_time": "2022-05-13T15:54:08.180887",
     "status": "completed"
    },
    "tags": []
   },
   "outputs": [
    {
     "name": "stdout",
     "output_type": "stream",
     "text": [
      "Matriz de confusión\n",
      "-------------------\n",
      "[[261 157]\n",
      " [  0   0]]\n",
      "\n",
      "El accuracy de test es: 62.44019138755981 %\n"
     ]
    }
   ],
   "source": [
    "from sklearn.metrics import confusion_matrix\n",
    "from sklearn.metrics import plot_confusion_matrix\n",
    "from sklearn.metrics import accuracy_score\n",
    "from sklearn.metrics import classification_report\n",
    "mat_confusion = confusion_matrix(\n",
    "                    y_true    = y_test,\n",
    "                    y_pred    = predictions\n",
    "                )\n",
    "\n",
    "accuracy = accuracy_score(\n",
    "            y_true    = y_test,\n",
    "            y_pred    = predictions,\n",
    "            normalize = True\n",
    "           )\n",
    "\n",
    "print(\"Matriz de confusión\")\n",
    "print(\"-------------------\")\n",
    "print(mat_confusion)\n",
    "print(\"\")\n",
    "print(f\"El accuracy de test es: {100 * accuracy} %\")"
   ]
  },
  {
   "cell_type": "markdown",
   "id": "6537cfbd",
   "metadata": {
    "execution": {
     "iopub.execute_input": "2022-05-13T04:50:36.068156Z",
     "iopub.status.busy": "2022-05-13T04:50:36.067796Z",
     "iopub.status.idle": "2022-05-13T04:50:36.082182Z",
     "shell.execute_reply": "2022-05-13T04:50:36.080851Z",
     "shell.execute_reply.started": "2022-05-13T04:50:36.068121Z"
    },
    "papermill": {
     "duration": 0.029391,
     "end_time": "2022-05-13T15:54:08.286170",
     "exception": false,
     "start_time": "2022-05-13T15:54:08.256779",
     "status": "completed"
    },
    "tags": []
   },
   "source": [
    "print(\n",
    "    classification_report(\n",
    "        y_true = y_test,\n",
    "        y_pred = predictions\n",
    "    )\n",
    ")"
   ]
  },
  {
   "cell_type": "code",
   "execution_count": 17,
   "id": "c20a8afd",
   "metadata": {
    "execution": {
     "iopub.execute_input": "2022-05-13T15:54:08.346915Z",
     "iopub.status.busy": "2022-05-13T15:54:08.346380Z",
     "iopub.status.idle": "2022-05-13T15:54:08.349570Z",
     "shell.execute_reply": "2022-05-13T15:54:08.348958Z"
    },
    "papermill": {
     "duration": 0.035961,
     "end_time": "2022-05-13T15:54:08.351572",
     "exception": false,
     "start_time": "2022-05-13T15:54:08.315611",
     "status": "completed"
    },
    "tags": []
   },
   "outputs": [],
   "source": [
    "#print('Accuracy: %.3f (%.3f)' % (np.mean(n_scores), np.std(n_scores)))"
   ]
  },
  {
   "cell_type": "code",
   "execution_count": 18,
   "id": "4ce8ff79",
   "metadata": {
    "execution": {
     "iopub.execute_input": "2022-05-13T15:54:08.412430Z",
     "iopub.status.busy": "2022-05-13T15:54:08.411656Z",
     "iopub.status.idle": "2022-05-13T15:54:08.415207Z",
     "shell.execute_reply": "2022-05-13T15:54:08.414523Z"
    },
    "papermill": {
     "duration": 0.036204,
     "end_time": "2022-05-13T15:54:08.417118",
     "exception": false,
     "start_time": "2022-05-13T15:54:08.380914",
     "status": "completed"
    },
    "tags": []
   },
   "outputs": [],
   "source": [
    "#cv = RepeatedStratifiedKFold(n_splits=10, n_repeats=3, random_state=1)\n",
    "#n_scores = cross_val_score(model, df_new2.drop(columns = \"Survived\"), df_new2['Survived'], scoring='accuracy', cv=cv, n_jobs=-1, error_score='raise')"
   ]
  }
 ],
 "metadata": {
  "interpreter": {
   "hash": "ad2bdc8ecc057115af97d19610ffacc2b4e99fae6737bb82f5d7fb13d2f2c186"
  },
  "kernelspec": {
   "display_name": "Python 3.8.5 ('base')",
   "language": "python",
   "name": "python3"
  },
  "language_info": {
   "codemirror_mode": {
    "name": "ipython",
    "version": 3
   },
   "file_extension": ".py",
   "mimetype": "text/x-python",
   "name": "python",
   "nbconvert_exporter": "python",
   "pygments_lexer": "ipython3",
   "version": "3.8.5"
  },
  "papermill": {
   "default_parameters": {},
   "duration": 15.193191,
   "end_time": "2022-05-13T15:54:09.168107",
   "environment_variables": {},
   "exception": null,
   "input_path": "__notebook__.ipynb",
   "output_path": "__notebook__.ipynb",
   "parameters": {},
   "start_time": "2022-05-13T15:53:53.974916",
   "version": "2.3.4"
  }
 },
 "nbformat": 4,
 "nbformat_minor": 5
}
